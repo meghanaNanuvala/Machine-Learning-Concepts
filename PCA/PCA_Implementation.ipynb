{
 "cells": [
  {
   "cell_type": "markdown",
   "metadata": {},
   "source": [
    "# PCA on the Glass Identification Dataset\n",
    "\n",
    "This notebook implements **Principal Component Analysis (PCA)** from scratch on the UCI Glass Identification dataset and visualizes the result in 2D.\n",
    "\n",
    "**Design choices**\n",
    "- Standardize features via **z-score** (mean 0, std 1; `ddof=0`).\n",
    "- Compute PCA via the **feature covariance** matrix using the **population** convention(N):  \n",
    "  (eigenvalues are per-PC **population variances**).\n",
    "- Also show PCA via **SVD** and verify the equivalence/decompositions:  \n",
    "- Visualize **PC1 vs PC2** colored by `Class`.\n",
    "\n",
    "**What you will verify**\n",
    "- `trace(Σ)` equals the **sum of eigenvalues** (total variance).  \n",
    "- **Explained variance ratio** (EVR) and **cumulative EVR** from eigenvalues/SVD match.  \n",
    "- **Reconstruction error (MSE)** with population scaling:\n"
   ]
  },
  {
   "cell_type": "markdown",
   "id": "93ef6681",
   "metadata": {},
   "source": [
    "## Contents\n",
    "1. Load data  \n",
    "2. Z-score standardization  \n",
    "3. PCA via covariance + eigen  \n",
    "4. PCA via SVD (equivalence check)  \n",
    "5. Equivalence Check: trace(Cov) == sum(eigenvalues)\n",
    "6. PC1 vs PC2 scatter (colored by Class)  \n",
    "7. Mean Square Error \n"
   ]
  },
  {
   "cell_type": "code",
   "execution_count": null,
   "metadata": {},
   "outputs": [
    {
     "name": "stdout",
     "output_type": "stream",
     "text": [
      "X shape: (214, 9) | y shape: (214,)\n"
     ]
    }
   ],
   "source": [
    "# 1) Load data \n",
    "import pandas as pd\n",
    "import numpy as np\n",
    "from pathlib import Path\n",
    "\n",
    "DATA_PATH = Path(\"glass+identification/glass.data\") \n",
    "\n",
    "column_names = [\"Id\",\"RI\",\"Na\",\"Mg\",\"Al\",\"Si\",\"K\",\"Ca\",\"Ba\",\"Fe\",\"Class\"]\n",
    "\n",
    "if not DATA_PATH.exists():\n",
    "    # If file is missing, explain how to get it (avoid hard-coded downloads here).\n",
    "    raise FileNotFoundError(\n",
    "        f\"{DATA_PATH} not found.\\n\"\n",
    "        \"Please place the Glass CSV at data/glass.csv with columns:\\n\"\n",
    "        \"Id, RI, Na, Mg, Al, Si, K, Ca, Ba, Fe, Class\"\n",
    "    )\n",
    "\n",
    "df = pd.read_csv(DATA_PATH, names=column_names)\n",
    "\n",
    "# Keep numeric features only (exclude Id and Class)\n",
    "feature_cols = [\"RI\",\"Na\",\"Mg\",\"Al\",\"Si\",\"K\",\"Ca\",\"Ba\",\"Fe\"]\n",
    "X = df[feature_cols].to_numpy().astype(float)\n",
    "y = df[\"Class\"]\n",
    "print(\"X shape:\", X.shape, \"| y shape:\", y.shape)\n"
   ]
  },
  {
   "cell_type": "code",
   "execution_count": null,
   "metadata": {},
   "outputs": [
    {
     "data": {
      "text/plain": [
       "(array([[ 0.87286765,  0.28495326,  1.25463857, -0.69244192, -1.12708201,\n",
       "         -0.67170546, -0.14576634, -0.35287683, -0.5864509 ],\n",
       "        [-0.24933347,  0.59181718,  0.63616803, -0.17046023,  0.10231907,\n",
       "         -0.02621325, -0.79373376, -0.35287683, -0.5864509 ],\n",
       "        [-0.72131806,  0.14993314,  0.60142249,  0.19091171,  0.43878673,\n",
       "         -0.16453301, -0.82894938, -0.35287683, -0.5864509 ]]),\n",
       " array([1.51836542e+00, 1.34078505e+01, 2.68453271e+00, 1.44490654e+00,\n",
       "        7.26509346e+01, 4.97056075e-01, 8.95696262e+00, 1.75046729e-01,\n",
       "        5.70093458e-02]),\n",
       " array([0.00302976, 0.81469337, 1.43903379, 0.49810176, 0.77273399,\n",
       "        0.65066625, 1.41982447, 0.49605617, 0.09721077]))"
      ]
     },
     "execution_count": 27,
     "metadata": {},
     "output_type": "execute_result"
    }
   ],
   "source": [
    "# 2) Z-score standardization (ddof=0 because we handle population where we are considering N)\n",
    "mu = X.mean(axis=0, keepdims=True)\n",
    "sigma = X.std(axis=0, ddof=0, keepdims=True)\n",
    "Xs = (X - mu) / sigma\n",
    "\n",
    "Xs[:3], mu.ravel(), sigma.ravel()\n"
   ]
  },
  {
   "cell_type": "code",
   "execution_count": null,
   "metadata": {},
   "outputs": [
    {
     "name": "stdout",
     "output_type": "stream",
     "text": [
      "Eigen values: [2.51116373e+00 2.05007218e+00 1.40484399e+00 1.15786245e+00\n",
      " 9.14002247e-01 5.27635193e-01 3.68958443e-01 6.38529478e-02\n",
      " 1.60881782e-03]\n",
      "Explained variance ratio (first 5): [0.279018 0.227786 0.156094 0.128651 0.101556]\n",
      "Cumulative (first 5): [0.279018 0.506804 0.662898 0.791549 0.893105]\n"
     ]
    },
    {
     "data": {
      "text/plain": [
       "array([[-1.15113957, -0.52948764, -0.37209565, -1.72890103,  0.25193583,\n",
       "        -0.34021008, -0.39560005, -0.19716008,  0.01634649],\n",
       "       [ 0.57413717, -0.75978777, -0.55670817, -0.76023228,  0.25707069,\n",
       "         0.11596015, -0.02415793, -0.28421356, -0.0107898 ],\n",
       "       [ 0.94015972, -0.92983597, -0.55490744, -0.20625431,  0.23750587,\n",
       "        -0.12663032, -0.36751757, -0.09594067,  0.02164019]])"
      ]
     },
     "execution_count": 28,
     "metadata": {},
     "output_type": "execute_result"
    }
   ],
   "source": [
    "# 3) PCA via covariance + eigen-decomposition (covariance: ddof=0 => divide by n)\n",
    "n = Xs.shape[0]\n",
    "# Sample covariance (rowvar=False): Xs.T @ Xs / (n-1)\n",
    "Cov = (Xs.T @ Xs) / n\n",
    "\n",
    "# eigh for symmetric matrices; returns eigenvalues (ascending), eigenvectors (columns)\n",
    "eigvals, eigvecs = np.linalg.eigh(Cov)\n",
    "\n",
    "# sort descending by eigenvalue\n",
    "idx = np.argsort(eigvals)[::-1]\n",
    "eigvals = eigvals[idx]\n",
    "eigvecs = eigvecs[:, idx]\n",
    "\n",
    "explained_var_ratio = eigvals / eigvals.sum()\n",
    "\n",
    "# Project standardized data (new coordinates in projected space)\n",
    "Z_eig = Xs @ eigvecs\n",
    "\n",
    "print(\"Eigen values:\", eigvals)\n",
    "print(\"Explained variance ratio (first 5):\", np.round(explained_var_ratio[:5], 6))\n",
    "print(\"Cumulative (first 5):\", np.round(np.cumsum(explained_var_ratio)[:5], 6))\n",
    "Z_eig[:3]\n"
   ]
  },
  {
   "cell_type": "code",
   "execution_count": null,
   "metadata": {},
   "outputs": [
    {
     "name": "stdout",
     "output_type": "stream",
     "text": [
      "corr(PC1_eig, PC1_svd) ≈ 1.000000\n"
     ]
    },
    {
     "data": {
      "text/plain": [
       "True"
      ]
     },
     "execution_count": 29,
     "metadata": {},
     "output_type": "execute_result"
    }
   ],
   "source": [
    "# 4) PCA via SVD (equivalence): Xs = U S V^T\n",
    "U, S, Vt = np.linalg.svd(Xs, full_matrices=False)\n",
    "# Variance per component: S^2/n\n",
    "svd_eigvals = (S**2) / n\n",
    "svd_components = Vt.T  # columns correspond to principal axes\n",
    "\n",
    "# Align directions (signs) may differ; check first component correlation\n",
    "Z_svd = Xs @ svd_components\n",
    "corr_pc1 = np.corrcoef(Z_eig[:,0], Z_svd[:,0])[0,1]\n",
    "print(f\"corr(PC1_eig, PC1_svd) ≈ {corr_pc1:.6f}\")\n",
    "\n",
    "svd_ev_ratio = svd_eigvals / svd_eigvals.sum()\n",
    "np.allclose(explained_var_ratio, svd_ev_ratio, atol=1e-10)\n"
   ]
  },
  {
   "cell_type": "code",
   "execution_count": 30,
   "id": "aaac4f89",
   "metadata": {},
   "outputs": [
    {
     "name": "stdout",
     "output_type": "stream",
     "text": [
      "trace(Cov)=9.00, sum(sum_eigvals)=9.00\n"
     ]
    }
   ],
   "source": [
    "# 5) Equivalence Check: trace(Cov) == sum(eigenvalues)\n",
    "trace_cov = float(np.trace(Cov))\n",
    "sum_eigvals  = float(eigvals.sum())\n",
    "\n",
    "print(f\"trace(Cov)={trace_cov:.2f}, sum(sum_eigvals)={sum_eigvals:.2f}\")\n",
    "\n",
    "np.testing.assert_allclose(trace_cov, sum_eigvals, rtol=1e-10, atol=1e-12)"
   ]
  },
  {
   "cell_type": "code",
   "execution_count": 31,
   "metadata": {},
   "outputs": [
    {
     "data": {
      "image/png": "[encoded data removed]",
      "text/plain": [
       "<Figure size 640x480 with 1 Axes>"
      ]
     },
     "metadata": {},
     "output_type": "display_data"
    }
   ],
   "source": [
    "# 6) PC1 vs PC2 scatter colored by Class\n",
    "import matplotlib.pyplot as plt\n",
    "\n",
    "pc1, pc2 = Z_eig[:,0], Z_eig[:,1]\n",
    "\n",
    "plt.figure()\n",
    "for cls in sorted(np.unique(y)):\n",
    "    mask = (y == cls)\n",
    "    plt.scatter(pc1[mask], pc2[mask], label=str(cls), alpha=0.85)\n",
    "plt.xlabel(\"PC1\")\n",
    "plt.ylabel(\"PC2\")\n",
    "plt.title(\"Glass: PC1 vs PC2 (covariance+eig)\")\n",
    "plt.legend(title=\"Class\")\n",
    "plt.grid(True)\n",
    "plt.show()\n"
   ]
  },
  {
   "cell_type": "code",
   "execution_count": null,
   "id": "ea2e392f",
   "metadata": {},
   "outputs": [
    {
     "name": "stdout",
     "output_type": "stream",
     "text": [
      "Info captured by 2 PCs: 4.5612359110014165\n",
      "MSE per sample        : 4.438764088998582\n",
      "MSE per element       : 0.4931960098887313\n"
     ]
    }
   ],
   "source": [
    "# 7) Mean Square Error \n",
    "n, d = Xs.shape\n",
    "\n",
    "# Variance captured by 2 PCs\n",
    "var_kept_2 = eigvals[:2].sum()\n",
    "\n",
    "total_var  = eigvals.sum()\n",
    "\n",
    "mse_per_sample  = total_var - var_kept_2          # SSE / n\n",
    "mse_per_element = mse_per_sample / d              # average per feature as well\n",
    "\n",
    "print(\"Info captured by 2 PCs:\", var_kept_2)\n",
    "print(\"MSE per sample        :\", mse_per_sample)\n",
    "print(\"MSE per element       :\", mse_per_element)\n"
   ]
  },
  {
   "cell_type": "code",
   "execution_count": null,
   "id": "2e000124",
   "metadata": {},
   "outputs": [],
   "source": []
  }
 ],
 "metadata": {
  "kernelspec": {
   "display_name": "main_conda_env",
   "language": "python",
   "name": "python3"
  },
  "language_info": {
   "codemirror_mode": {
    "name": "ipython",
    "version": 3
   },
   "file_extension": ".py",
   "mimetype": "text/x-python",
   "name": "python",
   "nbconvert_exporter": "python",
   "pygments_lexer": "ipython3",
   "version": "3.13.5"
  }
 },
 "nbformat": 4,
 "nbformat_minor": 5
}
